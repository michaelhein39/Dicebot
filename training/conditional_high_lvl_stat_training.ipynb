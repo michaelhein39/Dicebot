{
 "cells": [
  {
   "cell_type": "code",
   "execution_count": 1,
   "id": "da92a8ce",
   "metadata": {},
   "outputs": [],
   "source": [
    "import pandas as pd\n",
    "import matplotlib.pyplot as plt\n",
    "%matplotlib inline\n",
    "import numpy as np\n",
    "\n",
    "import torch\n",
    "import torch.nn as nn\n",
    "import torch.optim as optim\n",
    "from torch.utils.data import DataLoader\n",
    "\n",
    "from sklearn.model_selection import train_test_split"
   ]
  },
  {
   "cell_type": "code",
   "execution_count": 2,
   "id": "fbe44b1c",
   "metadata": {},
   "outputs": [],
   "source": [
    "torch.manual_seed(0)\n",
    "np.random.seed(0)"
   ]
  },
  {
   "cell_type": "code",
   "execution_count": 3,
   "id": "057f9147",
   "metadata": {},
   "outputs": [],
   "source": [
    "df = pd.read_csv(\"/Users/michaelhein/Programs/Dicebot/outputs/output.txt\")"
   ]
  },
  {
   "cell_type": "code",
   "execution_count": 4,
   "id": "e6cff46f",
   "metadata": {},
   "outputs": [
    {
     "data": {
      "text/html": [
       "<div>\n",
       "<style scoped>\n",
       "    .dataframe tbody tr th:only-of-type {\n",
       "        vertical-align: middle;\n",
       "    }\n",
       "\n",
       "    .dataframe tbody tr th {\n",
       "        vertical-align: top;\n",
       "    }\n",
       "\n",
       "    .dataframe thead th {\n",
       "        text-align: right;\n",
       "    }\n",
       "</style>\n",
       "<table border=\"1\" class=\"dataframe\">\n",
       "  <thead>\n",
       "    <tr style=\"text-align: right;\">\n",
       "      <th></th>\n",
       "      <th>totalDice</th>\n",
       "      <th>player</th>\n",
       "      <th>numPlayerDice</th>\n",
       "      <th>quantityDeclared</th>\n",
       "      <th>diceNumDeclared</th>\n",
       "      <th>1s</th>\n",
       "      <th>2s</th>\n",
       "      <th>3s</th>\n",
       "      <th>4s</th>\n",
       "      <th>5s</th>\n",
       "      <th>6s</th>\n",
       "    </tr>\n",
       "  </thead>\n",
       "  <tbody>\n",
       "    <tr>\n",
       "      <th>0</th>\n",
       "      <td>25</td>\n",
       "      <td>Agg-High</td>\n",
       "      <td>5</td>\n",
       "      <td>9</td>\n",
       "      <td>4</td>\n",
       "      <td>2</td>\n",
       "      <td>0</td>\n",
       "      <td>0</td>\n",
       "      <td>3</td>\n",
       "      <td>0</td>\n",
       "      <td>0</td>\n",
       "    </tr>\n",
       "    <tr>\n",
       "      <th>1</th>\n",
       "      <td>24</td>\n",
       "      <td>Agg-Low</td>\n",
       "      <td>5</td>\n",
       "      <td>8</td>\n",
       "      <td>4</td>\n",
       "      <td>0</td>\n",
       "      <td>0</td>\n",
       "      <td>1</td>\n",
       "      <td>2</td>\n",
       "      <td>2</td>\n",
       "      <td>0</td>\n",
       "    </tr>\n",
       "    <tr>\n",
       "      <th>2</th>\n",
       "      <td>24</td>\n",
       "      <td>Cond-Low</td>\n",
       "      <td>5</td>\n",
       "      <td>9</td>\n",
       "      <td>2</td>\n",
       "      <td>1</td>\n",
       "      <td>2</td>\n",
       "      <td>1</td>\n",
       "      <td>0</td>\n",
       "      <td>0</td>\n",
       "      <td>1</td>\n",
       "    </tr>\n",
       "    <tr>\n",
       "      <th>3</th>\n",
       "      <td>23</td>\n",
       "      <td>Cond-High</td>\n",
       "      <td>5</td>\n",
       "      <td>9</td>\n",
       "      <td>3</td>\n",
       "      <td>1</td>\n",
       "      <td>0</td>\n",
       "      <td>3</td>\n",
       "      <td>0</td>\n",
       "      <td>1</td>\n",
       "      <td>0</td>\n",
       "    </tr>\n",
       "    <tr>\n",
       "      <th>4</th>\n",
       "      <td>22</td>\n",
       "      <td>Conserv</td>\n",
       "      <td>4</td>\n",
       "      <td>1</td>\n",
       "      <td>4</td>\n",
       "      <td>0</td>\n",
       "      <td>1</td>\n",
       "      <td>0</td>\n",
       "      <td>2</td>\n",
       "      <td>0</td>\n",
       "      <td>1</td>\n",
       "    </tr>\n",
       "  </tbody>\n",
       "</table>\n",
       "</div>"
      ],
      "text/plain": [
       "   totalDice     player  numPlayerDice  quantityDeclared  diceNumDeclared  1s  \\\n",
       "0         25   Agg-High              5                 9                4   2   \n",
       "1         24    Agg-Low              5                 8                4   0   \n",
       "2         24   Cond-Low              5                 9                2   1   \n",
       "3         23  Cond-High              5                 9                3   1   \n",
       "4         22    Conserv              4                 1                4   0   \n",
       "\n",
       "   2s  3s  4s  5s  6s  \n",
       "0   0   0   3   0   0  \n",
       "1   0   1   2   2   0  \n",
       "2   2   1   0   0   1  \n",
       "3   0   3   0   1   0  \n",
       "4   1   0   2   0   1  "
      ]
     },
     "execution_count": 4,
     "metadata": {},
     "output_type": "execute_result"
    }
   ],
   "source": [
    "df.head()"
   ]
  },
  {
   "cell_type": "code",
   "execution_count": 5,
   "id": "964e4303",
   "metadata": {},
   "outputs": [
    {
     "data": {
      "text/plain": [
       "0         25\n",
       "1         24\n",
       "2         24\n",
       "3         23\n",
       "4         22\n",
       "          ..\n",
       "590880     6\n",
       "590881     6\n",
       "590882     5\n",
       "590883     4\n",
       "590884     4\n",
       "Name: totalDice, Length: 590885, dtype: int64"
      ]
     },
     "execution_count": 5,
     "metadata": {},
     "output_type": "execute_result"
    }
   ],
   "source": [
    "df[\"totalDice\"]"
   ]
  },
  {
   "cell_type": "code",
   "execution_count": 6,
   "id": "6fb51a79",
   "metadata": {},
   "outputs": [
    {
     "data": {
      "text/plain": [
       "(590885, 11)"
      ]
     },
     "execution_count": 6,
     "metadata": {},
     "output_type": "execute_result"
    }
   ],
   "source": [
    "df.shape"
   ]
  },
  {
   "cell_type": "code",
   "execution_count": 7,
   "id": "61f30856",
   "metadata": {},
   "outputs": [
    {
     "data": {
      "text/html": [
       "<div>\n",
       "<style scoped>\n",
       "    .dataframe tbody tr th:only-of-type {\n",
       "        vertical-align: middle;\n",
       "    }\n",
       "\n",
       "    .dataframe tbody tr th {\n",
       "        vertical-align: top;\n",
       "    }\n",
       "\n",
       "    .dataframe thead th {\n",
       "        text-align: right;\n",
       "    }\n",
       "</style>\n",
       "<table border=\"1\" class=\"dataframe\">\n",
       "  <thead>\n",
       "    <tr style=\"text-align: right;\">\n",
       "      <th></th>\n",
       "      <th>totalDice</th>\n",
       "      <th>player</th>\n",
       "      <th>numPlayerDice</th>\n",
       "      <th>quantityDeclared</th>\n",
       "      <th>diceNumDeclared</th>\n",
       "    </tr>\n",
       "  </thead>\n",
       "  <tbody>\n",
       "    <tr>\n",
       "      <th>0</th>\n",
       "      <td>25</td>\n",
       "      <td>Agg-High</td>\n",
       "      <td>5</td>\n",
       "      <td>9</td>\n",
       "      <td>4</td>\n",
       "    </tr>\n",
       "    <tr>\n",
       "      <th>1</th>\n",
       "      <td>24</td>\n",
       "      <td>Agg-Low</td>\n",
       "      <td>5</td>\n",
       "      <td>8</td>\n",
       "      <td>4</td>\n",
       "    </tr>\n",
       "    <tr>\n",
       "      <th>2</th>\n",
       "      <td>24</td>\n",
       "      <td>Cond-Low</td>\n",
       "      <td>5</td>\n",
       "      <td>9</td>\n",
       "      <td>2</td>\n",
       "    </tr>\n",
       "    <tr>\n",
       "      <th>3</th>\n",
       "      <td>23</td>\n",
       "      <td>Cond-High</td>\n",
       "      <td>5</td>\n",
       "      <td>9</td>\n",
       "      <td>3</td>\n",
       "    </tr>\n",
       "    <tr>\n",
       "      <th>4</th>\n",
       "      <td>22</td>\n",
       "      <td>Conserv</td>\n",
       "      <td>4</td>\n",
       "      <td>1</td>\n",
       "      <td>4</td>\n",
       "    </tr>\n",
       "    <tr>\n",
       "      <th>...</th>\n",
       "      <td>...</td>\n",
       "      <td>...</td>\n",
       "      <td>...</td>\n",
       "      <td>...</td>\n",
       "      <td>...</td>\n",
       "    </tr>\n",
       "    <tr>\n",
       "      <th>590880</th>\n",
       "      <td>6</td>\n",
       "      <td>Agg-High</td>\n",
       "      <td>1</td>\n",
       "      <td>2</td>\n",
       "      <td>5</td>\n",
       "    </tr>\n",
       "    <tr>\n",
       "      <th>590881</th>\n",
       "      <td>6</td>\n",
       "      <td>Agg-Low</td>\n",
       "      <td>1</td>\n",
       "      <td>3</td>\n",
       "      <td>4</td>\n",
       "    </tr>\n",
       "    <tr>\n",
       "      <th>590882</th>\n",
       "      <td>5</td>\n",
       "      <td>Cond-High</td>\n",
       "      <td>3</td>\n",
       "      <td>2</td>\n",
       "      <td>3</td>\n",
       "    </tr>\n",
       "    <tr>\n",
       "      <th>590883</th>\n",
       "      <td>4</td>\n",
       "      <td>Agg-Low</td>\n",
       "      <td>1</td>\n",
       "      <td>1</td>\n",
       "      <td>4</td>\n",
       "    </tr>\n",
       "    <tr>\n",
       "      <th>590884</th>\n",
       "      <td>4</td>\n",
       "      <td>Cond-High</td>\n",
       "      <td>3</td>\n",
       "      <td>2</td>\n",
       "      <td>1</td>\n",
       "    </tr>\n",
       "  </tbody>\n",
       "</table>\n",
       "<p>590885 rows × 5 columns</p>\n",
       "</div>"
      ],
      "text/plain": [
       "        totalDice     player  numPlayerDice  quantityDeclared  diceNumDeclared\n",
       "0              25   Agg-High              5                 9                4\n",
       "1              24    Agg-Low              5                 8                4\n",
       "2              24   Cond-Low              5                 9                2\n",
       "3              23  Cond-High              5                 9                3\n",
       "4              22    Conserv              4                 1                4\n",
       "...           ...        ...            ...               ...              ...\n",
       "590880          6   Agg-High              1                 2                5\n",
       "590881          6    Agg-Low              1                 3                4\n",
       "590882          5  Cond-High              3                 2                3\n",
       "590883          4    Agg-Low              1                 1                4\n",
       "590884          4  Cond-High              3                 2                1\n",
       "\n",
       "[590885 rows x 5 columns]"
      ]
     },
     "execution_count": 7,
     "metadata": {},
     "output_type": "execute_result"
    }
   ],
   "source": [
    "df[[\"totalDice\", \"player\", \"numPlayerDice\", \"quantityDeclared\", \"diceNumDeclared\"]]"
   ]
  },
  {
   "cell_type": "code",
   "execution_count": 8,
   "id": "58f4b984",
   "metadata": {},
   "outputs": [
    {
     "data": {
      "text/html": [
       "<div>\n",
       "<style scoped>\n",
       "    .dataframe tbody tr th:only-of-type {\n",
       "        vertical-align: middle;\n",
       "    }\n",
       "\n",
       "    .dataframe tbody tr th {\n",
       "        vertical-align: top;\n",
       "    }\n",
       "\n",
       "    .dataframe thead th {\n",
       "        text-align: right;\n",
       "    }\n",
       "</style>\n",
       "<table border=\"1\" class=\"dataframe\">\n",
       "  <thead>\n",
       "    <tr style=\"text-align: right;\">\n",
       "      <th></th>\n",
       "      <th>totalDice</th>\n",
       "      <th>player</th>\n",
       "      <th>numPlayerDice</th>\n",
       "      <th>quantityDeclared</th>\n",
       "      <th>diceNumDeclared</th>\n",
       "    </tr>\n",
       "  </thead>\n",
       "  <tbody>\n",
       "    <tr>\n",
       "      <th>0</th>\n",
       "      <td>25</td>\n",
       "      <td>Agg-High</td>\n",
       "      <td>5</td>\n",
       "      <td>9</td>\n",
       "      <td>4</td>\n",
       "    </tr>\n",
       "    <tr>\n",
       "      <th>1</th>\n",
       "      <td>24</td>\n",
       "      <td>Agg-Low</td>\n",
       "      <td>5</td>\n",
       "      <td>8</td>\n",
       "      <td>4</td>\n",
       "    </tr>\n",
       "    <tr>\n",
       "      <th>2</th>\n",
       "      <td>24</td>\n",
       "      <td>Cond-Low</td>\n",
       "      <td>5</td>\n",
       "      <td>9</td>\n",
       "      <td>2</td>\n",
       "    </tr>\n",
       "    <tr>\n",
       "      <th>3</th>\n",
       "      <td>23</td>\n",
       "      <td>Cond-High</td>\n",
       "      <td>5</td>\n",
       "      <td>9</td>\n",
       "      <td>3</td>\n",
       "    </tr>\n",
       "    <tr>\n",
       "      <th>4</th>\n",
       "      <td>22</td>\n",
       "      <td>Conserv</td>\n",
       "      <td>4</td>\n",
       "      <td>1</td>\n",
       "      <td>4</td>\n",
       "    </tr>\n",
       "  </tbody>\n",
       "</table>\n",
       "</div>"
      ],
      "text/plain": [
       "   totalDice     player  numPlayerDice  quantityDeclared  diceNumDeclared\n",
       "0         25   Agg-High              5                 9                4\n",
       "1         24    Agg-Low              5                 8                4\n",
       "2         24   Cond-Low              5                 9                2\n",
       "3         23  Cond-High              5                 9                3\n",
       "4         22    Conserv              4                 1                4"
      ]
     },
     "execution_count": 8,
     "metadata": {},
     "output_type": "execute_result"
    }
   ],
   "source": [
    "features = df[df.columns[:5]]\n",
    "features.head()"
   ]
  },
  {
   "cell_type": "code",
   "execution_count": 9,
   "id": "6a52ba1a",
   "metadata": {},
   "outputs": [
    {
     "data": {
      "text/html": [
       "<div>\n",
       "<style scoped>\n",
       "    .dataframe tbody tr th:only-of-type {\n",
       "        vertical-align: middle;\n",
       "    }\n",
       "\n",
       "    .dataframe tbody tr th {\n",
       "        vertical-align: top;\n",
       "    }\n",
       "\n",
       "    .dataframe thead th {\n",
       "        text-align: right;\n",
       "    }\n",
       "</style>\n",
       "<table border=\"1\" class=\"dataframe\">\n",
       "  <thead>\n",
       "    <tr style=\"text-align: right;\">\n",
       "      <th></th>\n",
       "      <th>1s</th>\n",
       "      <th>2s</th>\n",
       "      <th>3s</th>\n",
       "      <th>4s</th>\n",
       "      <th>5s</th>\n",
       "      <th>6s</th>\n",
       "    </tr>\n",
       "  </thead>\n",
       "  <tbody>\n",
       "    <tr>\n",
       "      <th>0</th>\n",
       "      <td>2</td>\n",
       "      <td>0</td>\n",
       "      <td>0</td>\n",
       "      <td>3</td>\n",
       "      <td>0</td>\n",
       "      <td>0</td>\n",
       "    </tr>\n",
       "    <tr>\n",
       "      <th>1</th>\n",
       "      <td>0</td>\n",
       "      <td>0</td>\n",
       "      <td>1</td>\n",
       "      <td>2</td>\n",
       "      <td>2</td>\n",
       "      <td>0</td>\n",
       "    </tr>\n",
       "    <tr>\n",
       "      <th>2</th>\n",
       "      <td>1</td>\n",
       "      <td>2</td>\n",
       "      <td>1</td>\n",
       "      <td>0</td>\n",
       "      <td>0</td>\n",
       "      <td>1</td>\n",
       "    </tr>\n",
       "    <tr>\n",
       "      <th>3</th>\n",
       "      <td>1</td>\n",
       "      <td>0</td>\n",
       "      <td>3</td>\n",
       "      <td>0</td>\n",
       "      <td>1</td>\n",
       "      <td>0</td>\n",
       "    </tr>\n",
       "    <tr>\n",
       "      <th>4</th>\n",
       "      <td>0</td>\n",
       "      <td>1</td>\n",
       "      <td>0</td>\n",
       "      <td>2</td>\n",
       "      <td>0</td>\n",
       "      <td>1</td>\n",
       "    </tr>\n",
       "  </tbody>\n",
       "</table>\n",
       "</div>"
      ],
      "text/plain": [
       "   1s  2s  3s  4s  5s  6s\n",
       "0   2   0   0   3   0   0\n",
       "1   0   0   1   2   2   0\n",
       "2   1   2   1   0   0   1\n",
       "3   1   0   3   0   1   0\n",
       "4   0   1   0   2   0   1"
      ]
     },
     "execution_count": 9,
     "metadata": {},
     "output_type": "execute_result"
    }
   ],
   "source": [
    "targets = df[df.columns[5:]]\n",
    "targets.head()"
   ]
  },
  {
   "cell_type": "code",
   "execution_count": 10,
   "id": "ae593c65",
   "metadata": {},
   "outputs": [
    {
     "data": {
      "text/html": [
       "<div>\n",
       "<style scoped>\n",
       "    .dataframe tbody tr th:only-of-type {\n",
       "        vertical-align: middle;\n",
       "    }\n",
       "\n",
       "    .dataframe tbody tr th {\n",
       "        vertical-align: top;\n",
       "    }\n",
       "\n",
       "    .dataframe thead th {\n",
       "        text-align: right;\n",
       "    }\n",
       "</style>\n",
       "<table border=\"1\" class=\"dataframe\">\n",
       "  <thead>\n",
       "    <tr style=\"text-align: right;\">\n",
       "      <th></th>\n",
       "      <th>totalDice</th>\n",
       "      <th>numPlayerDice</th>\n",
       "      <th>quantityDeclared</th>\n",
       "      <th>diceNumDeclared</th>\n",
       "      <th>1s</th>\n",
       "      <th>2s</th>\n",
       "      <th>3s</th>\n",
       "      <th>4s</th>\n",
       "      <th>5s</th>\n",
       "      <th>6s</th>\n",
       "    </tr>\n",
       "  </thead>\n",
       "  <tbody>\n",
       "    <tr>\n",
       "      <th>3</th>\n",
       "      <td>23</td>\n",
       "      <td>5</td>\n",
       "      <td>9</td>\n",
       "      <td>3</td>\n",
       "      <td>1</td>\n",
       "      <td>0</td>\n",
       "      <td>3</td>\n",
       "      <td>0</td>\n",
       "      <td>1</td>\n",
       "      <td>0</td>\n",
       "    </tr>\n",
       "    <tr>\n",
       "      <th>8</th>\n",
       "      <td>22</td>\n",
       "      <td>5</td>\n",
       "      <td>8</td>\n",
       "      <td>4</td>\n",
       "      <td>0</td>\n",
       "      <td>1</td>\n",
       "      <td>1</td>\n",
       "      <td>2</td>\n",
       "      <td>0</td>\n",
       "      <td>1</td>\n",
       "    </tr>\n",
       "    <tr>\n",
       "      <th>13</th>\n",
       "      <td>20</td>\n",
       "      <td>5</td>\n",
       "      <td>8</td>\n",
       "      <td>3</td>\n",
       "      <td>0</td>\n",
       "      <td>1</td>\n",
       "      <td>3</td>\n",
       "      <td>1</td>\n",
       "      <td>0</td>\n",
       "      <td>0</td>\n",
       "    </tr>\n",
       "    <tr>\n",
       "      <th>18</th>\n",
       "      <td>19</td>\n",
       "      <td>5</td>\n",
       "      <td>8</td>\n",
       "      <td>1</td>\n",
       "      <td>4</td>\n",
       "      <td>0</td>\n",
       "      <td>1</td>\n",
       "      <td>0</td>\n",
       "      <td>0</td>\n",
       "      <td>0</td>\n",
       "    </tr>\n",
       "    <tr>\n",
       "      <th>23</th>\n",
       "      <td>17</td>\n",
       "      <td>4</td>\n",
       "      <td>6</td>\n",
       "      <td>1</td>\n",
       "      <td>2</td>\n",
       "      <td>0</td>\n",
       "      <td>0</td>\n",
       "      <td>0</td>\n",
       "      <td>1</td>\n",
       "      <td>1</td>\n",
       "    </tr>\n",
       "  </tbody>\n",
       "</table>\n",
       "</div>"
      ],
      "text/plain": [
       "    totalDice  numPlayerDice  quantityDeclared  diceNumDeclared  1s  2s  3s  \\\n",
       "3          23              5                 9                3   1   0   3   \n",
       "8          22              5                 8                4   0   1   1   \n",
       "13         20              5                 8                3   0   1   3   \n",
       "18         19              5                 8                1   4   0   1   \n",
       "23         17              4                 6                1   2   0   0   \n",
       "\n",
       "    4s  5s  6s  \n",
       "3    0   1   0  \n",
       "8    2   0   1  \n",
       "13   1   0   0  \n",
       "18   0   0   0  \n",
       "23   0   1   1  "
      ]
     },
     "execution_count": 10,
     "metadata": {},
     "output_type": "execute_result"
    }
   ],
   "source": [
    "CondHigh = df[df[\"player\"] == \"Cond-High\"]\n",
    "CondHigh = CondHigh.drop(columns = [\"player\"])\n",
    "CondHigh.head()"
   ]
  },
  {
   "cell_type": "code",
   "execution_count": 11,
   "id": "c3a0f360",
   "metadata": {},
   "outputs": [],
   "source": [
    "td, test = train_test_split(CondHigh, test_size=0.1)"
   ]
  },
  {
   "cell_type": "code",
   "execution_count": 12,
   "id": "c7e4bf33",
   "metadata": {},
   "outputs": [],
   "source": [
    "train, develop = train_test_split(CondHigh, test_size=0.2)"
   ]
  },
  {
   "cell_type": "code",
   "execution_count": 13,
   "id": "8e8dfded",
   "metadata": {},
   "outputs": [
    {
     "data": {
      "text/plain": [
       "(90384, 10)"
      ]
     },
     "execution_count": 13,
     "metadata": {},
     "output_type": "execute_result"
    }
   ],
   "source": [
    "train.shape"
   ]
  },
  {
   "cell_type": "code",
   "execution_count": 14,
   "id": "d48db36f",
   "metadata": {},
   "outputs": [
    {
     "data": {
      "text/plain": [
       "(22596, 10)"
      ]
     },
     "execution_count": 14,
     "metadata": {},
     "output_type": "execute_result"
    }
   ],
   "source": [
    "develop.shape"
   ]
  },
  {
   "cell_type": "code",
   "execution_count": 15,
   "id": "10c56745",
   "metadata": {},
   "outputs": [
    {
     "data": {
      "text/plain": [
       "(11298, 10)"
      ]
     },
     "execution_count": 15,
     "metadata": {},
     "output_type": "execute_result"
    }
   ],
   "source": [
    "test.shape"
   ]
  },
  {
   "cell_type": "code",
   "execution_count": 16,
   "id": "ec9aef54",
   "metadata": {},
   "outputs": [],
   "source": [
    "x_train = train[train.columns[:4]]\n",
    "y_train = train[train.columns[4:]]\n",
    "\n",
    "x_develop = develop[develop.columns[:4]]\n",
    "y_develop = develop[develop.columns[4:]]\n",
    "\n",
    "x_test = test[test.columns[:4]]\n",
    "y_test = test[test.columns[4:]]"
   ]
  },
  {
   "cell_type": "code",
   "execution_count": 17,
   "id": "e2a68046",
   "metadata": {},
   "outputs": [],
   "source": [
    "x_train_tensor = torch.from_numpy(x_train.to_numpy()).float()\n",
    "y_train_tensor = torch.from_numpy(y_train.to_numpy()).float()\n",
    "\n",
    "x_develop_tensor = torch.from_numpy(x_develop.to_numpy()).float()\n",
    "y_develop_tensor = torch.from_numpy(y_develop.to_numpy()).float()\n",
    "\n",
    "x_test_tensor = torch.from_numpy(x_test.to_numpy()).float()\n",
    "y_test_tensor = torch.from_numpy(y_test.to_numpy()).float()"
   ]
  },
  {
   "cell_type": "code",
   "execution_count": 18,
   "id": "dc394685",
   "metadata": {},
   "outputs": [],
   "source": [
    "train_dataset = list(zip(x_train_tensor, y_train_tensor))\n",
    "develop_dataset = list(zip(x_develop_tensor, y_develop_tensor))\n",
    "test_dataset = list(zip(x_test_tensor, y_test_tensor))"
   ]
  },
  {
   "cell_type": "code",
   "execution_count": 19,
   "id": "98032384",
   "metadata": {},
   "outputs": [],
   "source": [
    "class Net(nn.Module):\n",
    "    def __init__(self, num_layers, layers_size):\n",
    "        super(Net, self).__init__()\n",
    "        self.hidden_layers = nn.ModuleList([nn.Linear(4, layers_size)])\n",
    "        self.hidden_layers.extend([nn.Linear(layers_size, layers_size) for i in range(1, num_layers-1)])\n",
    "        self.output = nn.Linear(layers_size, 6)\n",
    "        self.activation = nn.ReLU()\n",
    "        \n",
    "    def forward(self, x):\n",
    "        z = x\n",
    "        for layer in self.hidden_layers:\n",
    "            z = self.activation(layer(z))\n",
    "        return self.output(z)"
   ]
  },
  {
   "cell_type": "code",
   "execution_count": 20,
   "id": "04d4902d",
   "metadata": {},
   "outputs": [],
   "source": [
    "class Trainer():\n",
    "    def __init__(self, net, optim, loss_function, train_loader):\n",
    "        self.net = net\n",
    "        self.optim = optim\n",
    "        self.loss_function = loss_function\n",
    "        self.train_loader = train_loader\n",
    "        \n",
    "    def train(self, epochs, verbose=True):\n",
    "        losses = []\n",
    "        for epoch in range(epochs):\n",
    "            epoch_loss = 0.0\n",
    "            epoch_steps = 0\n",
    "            for data in self.train_loader:\n",
    "                x = data[0]\n",
    "                y = data[1]\n",
    "                \n",
    "                self.optim.zero_grad()\n",
    "                \n",
    "                preds = self.net.forward(x)\n",
    "                \n",
    "                loss = self.loss_function(preds, y)\n",
    "                \n",
    "                loss.backward()\n",
    "                \n",
    "                self.optim.step()\n",
    "                \n",
    "                epoch_loss += loss.item()\n",
    "                epoch_steps += 1\n",
    "                \n",
    "            losses.append(epoch_loss / epoch_steps)\n",
    "            if verbose: print(\"epoch [%d]: loss %.3f\" % (epoch+1, losses[-1]))\n",
    "        return losses"
   ]
  },
  {
   "cell_type": "code",
   "execution_count": 21,
   "id": "7dc5faec",
   "metadata": {},
   "outputs": [],
   "source": [
    "## Hyperparamters\n",
    "\n",
    "num_epochs = 30\n",
    "batch_size = 256\n",
    "learning_rate = 0.02"
   ]
  },
  {
   "cell_type": "code",
   "execution_count": 22,
   "id": "f1f448aa",
   "metadata": {},
   "outputs": [],
   "source": [
    "train_loader = DataLoader(dataset=train_dataset, batch_size=batch_size, shuffle=True, num_workers=0)\n",
    "develop_loader = DataLoader(dataset=develop_dataset, batch_size=batch_size, shuffle=False, num_workers=0)"
   ]
  },
  {
   "cell_type": "code",
   "execution_count": 23,
   "id": "f6f8072b",
   "metadata": {},
   "outputs": [
    {
     "name": "stdout",
     "output_type": "stream",
     "text": [
      "epoch [1]: loss 0.332\n",
      "epoch [2]: loss 0.280\n",
      "epoch [3]: loss 0.248\n",
      "epoch [4]: loss 0.242\n",
      "epoch [5]: loss 0.239\n",
      "epoch [6]: loss 0.241\n",
      "epoch [7]: loss 0.235\n",
      "epoch [8]: loss 0.236\n",
      "epoch [9]: loss 0.234\n",
      "epoch [10]: loss 0.233\n",
      "epoch [11]: loss 0.230\n",
      "epoch [12]: loss 0.229\n",
      "epoch [13]: loss 0.232\n",
      "epoch [14]: loss 0.234\n",
      "epoch [15]: loss 0.226\n",
      "epoch [16]: loss 0.227\n",
      "epoch [17]: loss 0.229\n",
      "epoch [18]: loss 0.228\n",
      "epoch [19]: loss 0.248\n",
      "epoch [20]: loss 0.238\n",
      "epoch [21]: loss 0.244\n",
      "epoch [22]: loss 0.235\n",
      "epoch [23]: loss 0.234\n",
      "epoch [24]: loss 0.239\n",
      "epoch [25]: loss 0.235\n",
      "epoch [26]: loss 0.239\n",
      "epoch [27]: loss 0.237\n",
      "epoch [28]: loss 0.239\n",
      "epoch [29]: loss 0.238\n",
      "epoch [30]: loss 0.236\n"
     ]
    }
   ],
   "source": [
    "net = Net(4, 16)\n",
    "opt = optim.Adam(net.parameters(), lr=learning_rate)\n",
    "loss_function = nn.MSELoss()\n",
    "\n",
    "trainer = Trainer(net=net, optim=opt, loss_function=loss_function, train_loader=train_loader)\n",
    "\n",
    "losses = trainer.train(num_epochs)"
   ]
  },
  {
   "cell_type": "code",
   "execution_count": 24,
   "id": "9b3dc3da",
   "metadata": {},
   "outputs": [
    {
     "data": {
      "text/html": [
       "<div>\n",
       "<style scoped>\n",
       "    .dataframe tbody tr th:only-of-type {\n",
       "        vertical-align: middle;\n",
       "    }\n",
       "\n",
       "    .dataframe tbody tr th {\n",
       "        vertical-align: top;\n",
       "    }\n",
       "\n",
       "    .dataframe thead th {\n",
       "        text-align: right;\n",
       "    }\n",
       "</style>\n",
       "<table border=\"1\" class=\"dataframe\">\n",
       "  <thead>\n",
       "    <tr style=\"text-align: right;\">\n",
       "      <th></th>\n",
       "      <th>totalDice</th>\n",
       "      <th>numPlayerDice</th>\n",
       "      <th>quantityDeclared</th>\n",
       "      <th>diceNumDeclared</th>\n",
       "      <th>1s</th>\n",
       "      <th>2s</th>\n",
       "      <th>3s</th>\n",
       "      <th>4s</th>\n",
       "      <th>5s</th>\n",
       "      <th>6s</th>\n",
       "    </tr>\n",
       "  </thead>\n",
       "  <tbody>\n",
       "    <tr>\n",
       "      <th>3</th>\n",
       "      <td>23</td>\n",
       "      <td>5</td>\n",
       "      <td>9</td>\n",
       "      <td>3</td>\n",
       "      <td>1</td>\n",
       "      <td>0</td>\n",
       "      <td>3</td>\n",
       "      <td>0</td>\n",
       "      <td>1</td>\n",
       "      <td>0</td>\n",
       "    </tr>\n",
       "    <tr>\n",
       "      <th>8</th>\n",
       "      <td>22</td>\n",
       "      <td>5</td>\n",
       "      <td>8</td>\n",
       "      <td>4</td>\n",
       "      <td>0</td>\n",
       "      <td>1</td>\n",
       "      <td>1</td>\n",
       "      <td>2</td>\n",
       "      <td>0</td>\n",
       "      <td>1</td>\n",
       "    </tr>\n",
       "    <tr>\n",
       "      <th>13</th>\n",
       "      <td>20</td>\n",
       "      <td>5</td>\n",
       "      <td>8</td>\n",
       "      <td>3</td>\n",
       "      <td>0</td>\n",
       "      <td>1</td>\n",
       "      <td>3</td>\n",
       "      <td>1</td>\n",
       "      <td>0</td>\n",
       "      <td>0</td>\n",
       "    </tr>\n",
       "    <tr>\n",
       "      <th>18</th>\n",
       "      <td>19</td>\n",
       "      <td>5</td>\n",
       "      <td>8</td>\n",
       "      <td>1</td>\n",
       "      <td>4</td>\n",
       "      <td>0</td>\n",
       "      <td>1</td>\n",
       "      <td>0</td>\n",
       "      <td>0</td>\n",
       "      <td>0</td>\n",
       "    </tr>\n",
       "    <tr>\n",
       "      <th>23</th>\n",
       "      <td>17</td>\n",
       "      <td>4</td>\n",
       "      <td>6</td>\n",
       "      <td>1</td>\n",
       "      <td>2</td>\n",
       "      <td>0</td>\n",
       "      <td>0</td>\n",
       "      <td>0</td>\n",
       "      <td>1</td>\n",
       "      <td>1</td>\n",
       "    </tr>\n",
       "  </tbody>\n",
       "</table>\n",
       "</div>"
      ],
      "text/plain": [
       "    totalDice  numPlayerDice  quantityDeclared  diceNumDeclared  1s  2s  3s  \\\n",
       "3          23              5                 9                3   1   0   3   \n",
       "8          22              5                 8                4   0   1   1   \n",
       "13         20              5                 8                3   0   1   3   \n",
       "18         19              5                 8                1   4   0   1   \n",
       "23         17              4                 6                1   2   0   0   \n",
       "\n",
       "    4s  5s  6s  \n",
       "3    0   1   0  \n",
       "8    2   0   1  \n",
       "13   1   0   0  \n",
       "18   0   0   0  \n",
       "23   0   1   1  "
      ]
     },
     "execution_count": 24,
     "metadata": {},
     "output_type": "execute_result"
    }
   ],
   "source": [
    "CondHigh.head()"
   ]
  },
  {
   "cell_type": "code",
   "execution_count": 25,
   "id": "0d7fa016",
   "metadata": {},
   "outputs": [
    {
     "data": {
      "text/plain": [
       "(tensor([9., 1., 4., 2.]), tensor([0., 1., 0., 0., 0., 0.]))"
      ]
     },
     "execution_count": 25,
     "metadata": {},
     "output_type": "execute_result"
    }
   ],
   "source": [
    "train_dataset[0]"
   ]
  },
  {
   "cell_type": "code",
   "execution_count": 26,
   "id": "b22043fd",
   "metadata": {},
   "outputs": [
    {
     "data": {
      "text/plain": [
       "(tensor([21.,  5.,  8.,  1.]), tensor([2., 0., 1., 0., 1., 1.]))"
      ]
     },
     "execution_count": 26,
     "metadata": {},
     "output_type": "execute_result"
    }
   ],
   "source": [
    "train_dataset[1]"
   ]
  },
  {
   "cell_type": "code",
   "execution_count": 27,
   "id": "7348b276",
   "metadata": {},
   "outputs": [
    {
     "data": {
      "text/html": [
       "<div>\n",
       "<style scoped>\n",
       "    .dataframe tbody tr th:only-of-type {\n",
       "        vertical-align: middle;\n",
       "    }\n",
       "\n",
       "    .dataframe tbody tr th {\n",
       "        vertical-align: top;\n",
       "    }\n",
       "\n",
       "    .dataframe thead th {\n",
       "        text-align: right;\n",
       "    }\n",
       "</style>\n",
       "<table border=\"1\" class=\"dataframe\">\n",
       "  <thead>\n",
       "    <tr style=\"text-align: right;\">\n",
       "      <th></th>\n",
       "      <th>totalDice</th>\n",
       "      <th>numPlayerDice</th>\n",
       "      <th>quantityDeclared</th>\n",
       "      <th>diceNumDeclared</th>\n",
       "    </tr>\n",
       "  </thead>\n",
       "  <tbody>\n",
       "    <tr>\n",
       "      <th>158190</th>\n",
       "      <td>9</td>\n",
       "      <td>1</td>\n",
       "      <td>4</td>\n",
       "      <td>2</td>\n",
       "    </tr>\n",
       "    <tr>\n",
       "      <th>423753</th>\n",
       "      <td>21</td>\n",
       "      <td>5</td>\n",
       "      <td>8</td>\n",
       "      <td>1</td>\n",
       "    </tr>\n",
       "    <tr>\n",
       "      <th>229494</th>\n",
       "      <td>14</td>\n",
       "      <td>2</td>\n",
       "      <td>3</td>\n",
       "      <td>5</td>\n",
       "    </tr>\n",
       "    <tr>\n",
       "      <th>139262</th>\n",
       "      <td>7</td>\n",
       "      <td>3</td>\n",
       "      <td>3</td>\n",
       "      <td>2</td>\n",
       "    </tr>\n",
       "    <tr>\n",
       "      <th>381543</th>\n",
       "      <td>3</td>\n",
       "      <td>1</td>\n",
       "      <td>2</td>\n",
       "      <td>2</td>\n",
       "    </tr>\n",
       "  </tbody>\n",
       "</table>\n",
       "</div>"
      ],
      "text/plain": [
       "        totalDice  numPlayerDice  quantityDeclared  diceNumDeclared\n",
       "158190          9              1                 4                2\n",
       "423753         21              5                 8                1\n",
       "229494         14              2                 3                5\n",
       "139262          7              3                 3                2\n",
       "381543          3              1                 2                2"
      ]
     },
     "execution_count": 27,
     "metadata": {},
     "output_type": "execute_result"
    }
   ],
   "source": [
    "x_train.head()"
   ]
  },
  {
   "cell_type": "code",
   "execution_count": 28,
   "id": "0f6de38f",
   "metadata": {},
   "outputs": [
    {
     "data": {
      "text/plain": [
       "tensor([0.0516, 0.8895, 0.0284, 0.0228, 0.0329, 0.1014],\n",
       "       grad_fn=<AddBackward0>)"
      ]
     },
     "execution_count": 28,
     "metadata": {},
     "output_type": "execute_result"
    }
   ],
   "source": [
    "net.forward(train_dataset[0][0])"
   ]
  },
  {
   "cell_type": "code",
   "execution_count": 29,
   "id": "1cad7791",
   "metadata": {},
   "outputs": [
    {
     "data": {
      "text/plain": [
       "tensor([2.2379, 0.6938, 0.5566, 0.5449, 0.5921, 0.7920],\n",
       "       grad_fn=<AddBackward0>)"
      ]
     },
     "execution_count": 29,
     "metadata": {},
     "output_type": "execute_result"
    }
   ],
   "source": [
    "net.forward(train_dataset[1][0])"
   ]
  },
  {
   "cell_type": "code",
   "execution_count": 30,
   "id": "be1fa5cd",
   "metadata": {},
   "outputs": [
    {
     "data": {
      "text/plain": [
       "(tensor([11.,  1.,  4.,  3.]), tensor([0., 0., 1., 0., 0., 0.]))"
      ]
     },
     "execution_count": 30,
     "metadata": {},
     "output_type": "execute_result"
    }
   ],
   "source": [
    "develop_dataset[0]"
   ]
  },
  {
   "cell_type": "code",
   "execution_count": 31,
   "id": "6ac9f446",
   "metadata": {},
   "outputs": [
    {
     "data": {
      "text/plain": [
       "(tensor([18.,  4.,  6.,  3.]), tensor([1., 0., 2., 1., 0., 0.]))"
      ]
     },
     "execution_count": 31,
     "metadata": {},
     "output_type": "execute_result"
    }
   ],
   "source": [
    "develop_dataset[1]"
   ]
  },
  {
   "cell_type": "code",
   "execution_count": 32,
   "id": "bbf6188b",
   "metadata": {},
   "outputs": [
    {
     "data": {
      "text/plain": [
       "(tensor([5., 2., 1., 5.]), tensor([1., 0., 0., 0., 1., 0.]))"
      ]
     },
     "execution_count": 32,
     "metadata": {},
     "output_type": "execute_result"
    }
   ],
   "source": [
    "develop_dataset[2]"
   ]
  },
  {
   "cell_type": "code",
   "execution_count": 33,
   "id": "21093169",
   "metadata": {},
   "outputs": [
    {
     "data": {
      "text/plain": [
       "(tensor([23.,  5.,  9.,  3.]), tensor([1., 1., 3., 0., 0., 0.]))"
      ]
     },
     "execution_count": 33,
     "metadata": {},
     "output_type": "execute_result"
    }
   ],
   "source": [
    "develop_dataset[3]"
   ]
  },
  {
   "cell_type": "code",
   "execution_count": 34,
   "id": "369ae74d",
   "metadata": {},
   "outputs": [
    {
     "data": {
      "text/plain": [
       "tensor([ 0.0239, -0.0010,  0.8289, -0.0109,  0.0208,  0.1188],\n",
       "       grad_fn=<AddBackward0>)"
      ]
     },
     "execution_count": 34,
     "metadata": {},
     "output_type": "execute_result"
    }
   ],
   "source": [
    "net.forward(develop_dataset[0][0])"
   ]
  },
  {
   "cell_type": "code",
   "execution_count": 35,
   "id": "9e3a17a5",
   "metadata": {},
   "outputs": [
    {
     "data": {
      "text/plain": [
       "tensor([0.4974, 0.4216, 1.6331, 0.4222, 0.4480, 0.7424],\n",
       "       grad_fn=<AddBackward0>)"
      ]
     },
     "execution_count": 35,
     "metadata": {},
     "output_type": "execute_result"
    }
   ],
   "source": [
    "net.forward(develop_dataset[1][0])"
   ]
  },
  {
   "cell_type": "code",
   "execution_count": 36,
   "id": "ad8248e9",
   "metadata": {},
   "outputs": [
    {
     "data": {
      "text/plain": [
       "tensor([0.1980, 0.2585, 0.1140, 0.1844, 1.0836, 0.3157],\n",
       "       grad_fn=<AddBackward0>)"
      ]
     },
     "execution_count": 36,
     "metadata": {},
     "output_type": "execute_result"
    }
   ],
   "source": [
    "net.forward(develop_dataset[2][0])"
   ]
  },
  {
   "cell_type": "code",
   "execution_count": 37,
   "id": "2229fe95",
   "metadata": {},
   "outputs": [
    {
     "data": {
      "text/plain": [
       "tensor([0.6167, 0.4122, 2.4518, 0.5147, 0.5540, 0.6449],\n",
       "       grad_fn=<AddBackward0>)"
      ]
     },
     "execution_count": 37,
     "metadata": {},
     "output_type": "execute_result"
    }
   ],
   "source": [
    "net.forward(develop_dataset[3][0])"
   ]
  },
  {
   "cell_type": "code",
   "execution_count": 38,
   "id": "9f35bd78",
   "metadata": {},
   "outputs": [],
   "source": [
    "torch.save(net.state_dict(), \"/Users/michaelhein/Programs/Dicebot/models/conditional_high_lvl_stat.obj\")"
   ]
  }
 ],
 "metadata": {
  "kernelspec": {
   "display_name": "Python 3 (ipykernel)",
   "language": "python",
   "name": "python3"
  },
  "language_info": {
   "codemirror_mode": {
    "name": "ipython",
    "version": 3
   },
   "file_extension": ".py",
   "mimetype": "text/x-python",
   "name": "python",
   "nbconvert_exporter": "python",
   "pygments_lexer": "ipython3",
   "version": "3.10.5"
  }
 },
 "nbformat": 4,
 "nbformat_minor": 5
}
