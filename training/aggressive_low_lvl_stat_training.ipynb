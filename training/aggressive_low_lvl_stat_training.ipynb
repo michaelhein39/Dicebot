{
 "cells": [
  {
   "cell_type": "code",
   "execution_count": 40,
   "id": "da92a8ce",
   "metadata": {},
   "outputs": [],
   "source": [
    "import pandas as pd\n",
    "import matplotlib.pyplot as plt\n",
    "%matplotlib inline\n",
    "import numpy as np\n",
    "\n",
    "import torch\n",
    "import torch.nn as nn\n",
    "import torch.optim as optim\n",
    "from torch.utils.data import DataLoader\n",
    "\n",
    "from sklearn.model_selection import train_test_split"
   ]
  },
  {
   "cell_type": "code",
   "execution_count": 41,
   "id": "fbe44b1c",
   "metadata": {},
   "outputs": [],
   "source": [
    "torch.manual_seed(0)\n",
    "np.random.seed(0)"
   ]
  },
  {
   "cell_type": "code",
   "execution_count": 42,
   "id": "057f9147",
   "metadata": {},
   "outputs": [],
   "source": [
    "df = pd.read_csv(\"/Users/michaelhein/Programs/Dicebot/outputs/output.txt\")"
   ]
  },
  {
   "cell_type": "code",
   "execution_count": 43,
   "id": "e6cff46f",
   "metadata": {},
   "outputs": [
    {
     "data": {
      "text/html": [
       "<div>\n",
       "<style scoped>\n",
       "    .dataframe tbody tr th:only-of-type {\n",
       "        vertical-align: middle;\n",
       "    }\n",
       "\n",
       "    .dataframe tbody tr th {\n",
       "        vertical-align: top;\n",
       "    }\n",
       "\n",
       "    .dataframe thead th {\n",
       "        text-align: right;\n",
       "    }\n",
       "</style>\n",
       "<table border=\"1\" class=\"dataframe\">\n",
       "  <thead>\n",
       "    <tr style=\"text-align: right;\">\n",
       "      <th></th>\n",
       "      <th>totalDice</th>\n",
       "      <th>player</th>\n",
       "      <th>numPlayerDice</th>\n",
       "      <th>quantityDeclared</th>\n",
       "      <th>diceNumDeclared</th>\n",
       "      <th>1s</th>\n",
       "      <th>2s</th>\n",
       "      <th>3s</th>\n",
       "      <th>4s</th>\n",
       "      <th>5s</th>\n",
       "      <th>6s</th>\n",
       "    </tr>\n",
       "  </thead>\n",
       "  <tbody>\n",
       "    <tr>\n",
       "      <th>0</th>\n",
       "      <td>25</td>\n",
       "      <td>Agg-High</td>\n",
       "      <td>5</td>\n",
       "      <td>9</td>\n",
       "      <td>4</td>\n",
       "      <td>2</td>\n",
       "      <td>0</td>\n",
       "      <td>0</td>\n",
       "      <td>3</td>\n",
       "      <td>0</td>\n",
       "      <td>0</td>\n",
       "    </tr>\n",
       "    <tr>\n",
       "      <th>1</th>\n",
       "      <td>24</td>\n",
       "      <td>Agg-Low</td>\n",
       "      <td>5</td>\n",
       "      <td>8</td>\n",
       "      <td>4</td>\n",
       "      <td>0</td>\n",
       "      <td>0</td>\n",
       "      <td>1</td>\n",
       "      <td>2</td>\n",
       "      <td>2</td>\n",
       "      <td>0</td>\n",
       "    </tr>\n",
       "    <tr>\n",
       "      <th>2</th>\n",
       "      <td>24</td>\n",
       "      <td>Cond-Low</td>\n",
       "      <td>5</td>\n",
       "      <td>9</td>\n",
       "      <td>2</td>\n",
       "      <td>1</td>\n",
       "      <td>2</td>\n",
       "      <td>1</td>\n",
       "      <td>0</td>\n",
       "      <td>0</td>\n",
       "      <td>1</td>\n",
       "    </tr>\n",
       "    <tr>\n",
       "      <th>3</th>\n",
       "      <td>23</td>\n",
       "      <td>Cond-High</td>\n",
       "      <td>5</td>\n",
       "      <td>9</td>\n",
       "      <td>3</td>\n",
       "      <td>1</td>\n",
       "      <td>0</td>\n",
       "      <td>3</td>\n",
       "      <td>0</td>\n",
       "      <td>1</td>\n",
       "      <td>0</td>\n",
       "    </tr>\n",
       "    <tr>\n",
       "      <th>4</th>\n",
       "      <td>22</td>\n",
       "      <td>Conserv</td>\n",
       "      <td>4</td>\n",
       "      <td>1</td>\n",
       "      <td>4</td>\n",
       "      <td>0</td>\n",
       "      <td>1</td>\n",
       "      <td>0</td>\n",
       "      <td>2</td>\n",
       "      <td>0</td>\n",
       "      <td>1</td>\n",
       "    </tr>\n",
       "  </tbody>\n",
       "</table>\n",
       "</div>"
      ],
      "text/plain": [
       "   totalDice     player  numPlayerDice  quantityDeclared  diceNumDeclared  1s  \\\n",
       "0         25   Agg-High              5                 9                4   2   \n",
       "1         24    Agg-Low              5                 8                4   0   \n",
       "2         24   Cond-Low              5                 9                2   1   \n",
       "3         23  Cond-High              5                 9                3   1   \n",
       "4         22    Conserv              4                 1                4   0   \n",
       "\n",
       "   2s  3s  4s  5s  6s  \n",
       "0   0   0   3   0   0  \n",
       "1   0   1   2   2   0  \n",
       "2   2   1   0   0   1  \n",
       "3   0   3   0   1   0  \n",
       "4   1   0   2   0   1  "
      ]
     },
     "execution_count": 43,
     "metadata": {},
     "output_type": "execute_result"
    }
   ],
   "source": [
    "df.head()"
   ]
  },
  {
   "cell_type": "code",
   "execution_count": 44,
   "id": "964e4303",
   "metadata": {},
   "outputs": [
    {
     "data": {
      "text/plain": [
       "0         25\n",
       "1         24\n",
       "2         24\n",
       "3         23\n",
       "4         22\n",
       "          ..\n",
       "590880     6\n",
       "590881     6\n",
       "590882     5\n",
       "590883     4\n",
       "590884     4\n",
       "Name: totalDice, Length: 590885, dtype: int64"
      ]
     },
     "execution_count": 44,
     "metadata": {},
     "output_type": "execute_result"
    }
   ],
   "source": [
    "df[\"totalDice\"]"
   ]
  },
  {
   "cell_type": "code",
   "execution_count": 45,
   "id": "6fb51a79",
   "metadata": {},
   "outputs": [
    {
     "data": {
      "text/plain": [
       "(590885, 11)"
      ]
     },
     "execution_count": 45,
     "metadata": {},
     "output_type": "execute_result"
    }
   ],
   "source": [
    "df.shape"
   ]
  },
  {
   "cell_type": "code",
   "execution_count": 46,
   "id": "61f30856",
   "metadata": {},
   "outputs": [
    {
     "data": {
      "text/html": [
       "<div>\n",
       "<style scoped>\n",
       "    .dataframe tbody tr th:only-of-type {\n",
       "        vertical-align: middle;\n",
       "    }\n",
       "\n",
       "    .dataframe tbody tr th {\n",
       "        vertical-align: top;\n",
       "    }\n",
       "\n",
       "    .dataframe thead th {\n",
       "        text-align: right;\n",
       "    }\n",
       "</style>\n",
       "<table border=\"1\" class=\"dataframe\">\n",
       "  <thead>\n",
       "    <tr style=\"text-align: right;\">\n",
       "      <th></th>\n",
       "      <th>totalDice</th>\n",
       "      <th>player</th>\n",
       "      <th>numPlayerDice</th>\n",
       "      <th>quantityDeclared</th>\n",
       "      <th>diceNumDeclared</th>\n",
       "    </tr>\n",
       "  </thead>\n",
       "  <tbody>\n",
       "    <tr>\n",
       "      <th>0</th>\n",
       "      <td>25</td>\n",
       "      <td>Agg-High</td>\n",
       "      <td>5</td>\n",
       "      <td>9</td>\n",
       "      <td>4</td>\n",
       "    </tr>\n",
       "    <tr>\n",
       "      <th>1</th>\n",
       "      <td>24</td>\n",
       "      <td>Agg-Low</td>\n",
       "      <td>5</td>\n",
       "      <td>8</td>\n",
       "      <td>4</td>\n",
       "    </tr>\n",
       "    <tr>\n",
       "      <th>2</th>\n",
       "      <td>24</td>\n",
       "      <td>Cond-Low</td>\n",
       "      <td>5</td>\n",
       "      <td>9</td>\n",
       "      <td>2</td>\n",
       "    </tr>\n",
       "    <tr>\n",
       "      <th>3</th>\n",
       "      <td>23</td>\n",
       "      <td>Cond-High</td>\n",
       "      <td>5</td>\n",
       "      <td>9</td>\n",
       "      <td>3</td>\n",
       "    </tr>\n",
       "    <tr>\n",
       "      <th>4</th>\n",
       "      <td>22</td>\n",
       "      <td>Conserv</td>\n",
       "      <td>4</td>\n",
       "      <td>1</td>\n",
       "      <td>4</td>\n",
       "    </tr>\n",
       "    <tr>\n",
       "      <th>...</th>\n",
       "      <td>...</td>\n",
       "      <td>...</td>\n",
       "      <td>...</td>\n",
       "      <td>...</td>\n",
       "      <td>...</td>\n",
       "    </tr>\n",
       "    <tr>\n",
       "      <th>590880</th>\n",
       "      <td>6</td>\n",
       "      <td>Agg-High</td>\n",
       "      <td>1</td>\n",
       "      <td>2</td>\n",
       "      <td>5</td>\n",
       "    </tr>\n",
       "    <tr>\n",
       "      <th>590881</th>\n",
       "      <td>6</td>\n",
       "      <td>Agg-Low</td>\n",
       "      <td>1</td>\n",
       "      <td>3</td>\n",
       "      <td>4</td>\n",
       "    </tr>\n",
       "    <tr>\n",
       "      <th>590882</th>\n",
       "      <td>5</td>\n",
       "      <td>Cond-High</td>\n",
       "      <td>3</td>\n",
       "      <td>2</td>\n",
       "      <td>3</td>\n",
       "    </tr>\n",
       "    <tr>\n",
       "      <th>590883</th>\n",
       "      <td>4</td>\n",
       "      <td>Agg-Low</td>\n",
       "      <td>1</td>\n",
       "      <td>1</td>\n",
       "      <td>4</td>\n",
       "    </tr>\n",
       "    <tr>\n",
       "      <th>590884</th>\n",
       "      <td>4</td>\n",
       "      <td>Cond-High</td>\n",
       "      <td>3</td>\n",
       "      <td>2</td>\n",
       "      <td>1</td>\n",
       "    </tr>\n",
       "  </tbody>\n",
       "</table>\n",
       "<p>590885 rows × 5 columns</p>\n",
       "</div>"
      ],
      "text/plain": [
       "        totalDice     player  numPlayerDice  quantityDeclared  diceNumDeclared\n",
       "0              25   Agg-High              5                 9                4\n",
       "1              24    Agg-Low              5                 8                4\n",
       "2              24   Cond-Low              5                 9                2\n",
       "3              23  Cond-High              5                 9                3\n",
       "4              22    Conserv              4                 1                4\n",
       "...           ...        ...            ...               ...              ...\n",
       "590880          6   Agg-High              1                 2                5\n",
       "590881          6    Agg-Low              1                 3                4\n",
       "590882          5  Cond-High              3                 2                3\n",
       "590883          4    Agg-Low              1                 1                4\n",
       "590884          4  Cond-High              3                 2                1\n",
       "\n",
       "[590885 rows x 5 columns]"
      ]
     },
     "execution_count": 46,
     "metadata": {},
     "output_type": "execute_result"
    }
   ],
   "source": [
    "df[[\"totalDice\", \"player\", \"numPlayerDice\", \"quantityDeclared\", \"diceNumDeclared\"]]"
   ]
  },
  {
   "cell_type": "code",
   "execution_count": 47,
   "id": "58f4b984",
   "metadata": {},
   "outputs": [
    {
     "data": {
      "text/html": [
       "<div>\n",
       "<style scoped>\n",
       "    .dataframe tbody tr th:only-of-type {\n",
       "        vertical-align: middle;\n",
       "    }\n",
       "\n",
       "    .dataframe tbody tr th {\n",
       "        vertical-align: top;\n",
       "    }\n",
       "\n",
       "    .dataframe thead th {\n",
       "        text-align: right;\n",
       "    }\n",
       "</style>\n",
       "<table border=\"1\" class=\"dataframe\">\n",
       "  <thead>\n",
       "    <tr style=\"text-align: right;\">\n",
       "      <th></th>\n",
       "      <th>totalDice</th>\n",
       "      <th>player</th>\n",
       "      <th>numPlayerDice</th>\n",
       "      <th>quantityDeclared</th>\n",
       "      <th>diceNumDeclared</th>\n",
       "    </tr>\n",
       "  </thead>\n",
       "  <tbody>\n",
       "    <tr>\n",
       "      <th>0</th>\n",
       "      <td>25</td>\n",
       "      <td>Agg-High</td>\n",
       "      <td>5</td>\n",
       "      <td>9</td>\n",
       "      <td>4</td>\n",
       "    </tr>\n",
       "    <tr>\n",
       "      <th>1</th>\n",
       "      <td>24</td>\n",
       "      <td>Agg-Low</td>\n",
       "      <td>5</td>\n",
       "      <td>8</td>\n",
       "      <td>4</td>\n",
       "    </tr>\n",
       "    <tr>\n",
       "      <th>2</th>\n",
       "      <td>24</td>\n",
       "      <td>Cond-Low</td>\n",
       "      <td>5</td>\n",
       "      <td>9</td>\n",
       "      <td>2</td>\n",
       "    </tr>\n",
       "    <tr>\n",
       "      <th>3</th>\n",
       "      <td>23</td>\n",
       "      <td>Cond-High</td>\n",
       "      <td>5</td>\n",
       "      <td>9</td>\n",
       "      <td>3</td>\n",
       "    </tr>\n",
       "    <tr>\n",
       "      <th>4</th>\n",
       "      <td>22</td>\n",
       "      <td>Conserv</td>\n",
       "      <td>4</td>\n",
       "      <td>1</td>\n",
       "      <td>4</td>\n",
       "    </tr>\n",
       "  </tbody>\n",
       "</table>\n",
       "</div>"
      ],
      "text/plain": [
       "   totalDice     player  numPlayerDice  quantityDeclared  diceNumDeclared\n",
       "0         25   Agg-High              5                 9                4\n",
       "1         24    Agg-Low              5                 8                4\n",
       "2         24   Cond-Low              5                 9                2\n",
       "3         23  Cond-High              5                 9                3\n",
       "4         22    Conserv              4                 1                4"
      ]
     },
     "execution_count": 47,
     "metadata": {},
     "output_type": "execute_result"
    }
   ],
   "source": [
    "features = df[df.columns[:5]]\n",
    "features.head()"
   ]
  },
  {
   "cell_type": "code",
   "execution_count": 48,
   "id": "6a52ba1a",
   "metadata": {},
   "outputs": [
    {
     "data": {
      "text/html": [
       "<div>\n",
       "<style scoped>\n",
       "    .dataframe tbody tr th:only-of-type {\n",
       "        vertical-align: middle;\n",
       "    }\n",
       "\n",
       "    .dataframe tbody tr th {\n",
       "        vertical-align: top;\n",
       "    }\n",
       "\n",
       "    .dataframe thead th {\n",
       "        text-align: right;\n",
       "    }\n",
       "</style>\n",
       "<table border=\"1\" class=\"dataframe\">\n",
       "  <thead>\n",
       "    <tr style=\"text-align: right;\">\n",
       "      <th></th>\n",
       "      <th>1s</th>\n",
       "      <th>2s</th>\n",
       "      <th>3s</th>\n",
       "      <th>4s</th>\n",
       "      <th>5s</th>\n",
       "      <th>6s</th>\n",
       "    </tr>\n",
       "  </thead>\n",
       "  <tbody>\n",
       "    <tr>\n",
       "      <th>0</th>\n",
       "      <td>2</td>\n",
       "      <td>0</td>\n",
       "      <td>0</td>\n",
       "      <td>3</td>\n",
       "      <td>0</td>\n",
       "      <td>0</td>\n",
       "    </tr>\n",
       "    <tr>\n",
       "      <th>1</th>\n",
       "      <td>0</td>\n",
       "      <td>0</td>\n",
       "      <td>1</td>\n",
       "      <td>2</td>\n",
       "      <td>2</td>\n",
       "      <td>0</td>\n",
       "    </tr>\n",
       "    <tr>\n",
       "      <th>2</th>\n",
       "      <td>1</td>\n",
       "      <td>2</td>\n",
       "      <td>1</td>\n",
       "      <td>0</td>\n",
       "      <td>0</td>\n",
       "      <td>1</td>\n",
       "    </tr>\n",
       "    <tr>\n",
       "      <th>3</th>\n",
       "      <td>1</td>\n",
       "      <td>0</td>\n",
       "      <td>3</td>\n",
       "      <td>0</td>\n",
       "      <td>1</td>\n",
       "      <td>0</td>\n",
       "    </tr>\n",
       "    <tr>\n",
       "      <th>4</th>\n",
       "      <td>0</td>\n",
       "      <td>1</td>\n",
       "      <td>0</td>\n",
       "      <td>2</td>\n",
       "      <td>0</td>\n",
       "      <td>1</td>\n",
       "    </tr>\n",
       "  </tbody>\n",
       "</table>\n",
       "</div>"
      ],
      "text/plain": [
       "   1s  2s  3s  4s  5s  6s\n",
       "0   2   0   0   3   0   0\n",
       "1   0   0   1   2   2   0\n",
       "2   1   2   1   0   0   1\n",
       "3   1   0   3   0   1   0\n",
       "4   0   1   0   2   0   1"
      ]
     },
     "execution_count": 48,
     "metadata": {},
     "output_type": "execute_result"
    }
   ],
   "source": [
    "targets = df[df.columns[5:]]\n",
    "targets.head()"
   ]
  },
  {
   "cell_type": "code",
   "execution_count": 49,
   "id": "ae593c65",
   "metadata": {},
   "outputs": [
    {
     "data": {
      "text/html": [
       "<div>\n",
       "<style scoped>\n",
       "    .dataframe tbody tr th:only-of-type {\n",
       "        vertical-align: middle;\n",
       "    }\n",
       "\n",
       "    .dataframe tbody tr th {\n",
       "        vertical-align: top;\n",
       "    }\n",
       "\n",
       "    .dataframe thead th {\n",
       "        text-align: right;\n",
       "    }\n",
       "</style>\n",
       "<table border=\"1\" class=\"dataframe\">\n",
       "  <thead>\n",
       "    <tr style=\"text-align: right;\">\n",
       "      <th></th>\n",
       "      <th>totalDice</th>\n",
       "      <th>numPlayerDice</th>\n",
       "      <th>quantityDeclared</th>\n",
       "      <th>diceNumDeclared</th>\n",
       "      <th>1s</th>\n",
       "      <th>2s</th>\n",
       "      <th>3s</th>\n",
       "      <th>4s</th>\n",
       "      <th>5s</th>\n",
       "      <th>6s</th>\n",
       "    </tr>\n",
       "  </thead>\n",
       "  <tbody>\n",
       "    <tr>\n",
       "      <th>1</th>\n",
       "      <td>24</td>\n",
       "      <td>5</td>\n",
       "      <td>8</td>\n",
       "      <td>4</td>\n",
       "      <td>0</td>\n",
       "      <td>0</td>\n",
       "      <td>1</td>\n",
       "      <td>2</td>\n",
       "      <td>2</td>\n",
       "      <td>0</td>\n",
       "    </tr>\n",
       "    <tr>\n",
       "      <th>6</th>\n",
       "      <td>22</td>\n",
       "      <td>5</td>\n",
       "      <td>7</td>\n",
       "      <td>4</td>\n",
       "      <td>2</td>\n",
       "      <td>0</td>\n",
       "      <td>0</td>\n",
       "      <td>2</td>\n",
       "      <td>0</td>\n",
       "      <td>1</td>\n",
       "    </tr>\n",
       "    <tr>\n",
       "      <th>11</th>\n",
       "      <td>21</td>\n",
       "      <td>5</td>\n",
       "      <td>7</td>\n",
       "      <td>4</td>\n",
       "      <td>1</td>\n",
       "      <td>0</td>\n",
       "      <td>1</td>\n",
       "      <td>2</td>\n",
       "      <td>1</td>\n",
       "      <td>0</td>\n",
       "    </tr>\n",
       "    <tr>\n",
       "      <th>16</th>\n",
       "      <td>19</td>\n",
       "      <td>5</td>\n",
       "      <td>6</td>\n",
       "      <td>3</td>\n",
       "      <td>2</td>\n",
       "      <td>0</td>\n",
       "      <td>2</td>\n",
       "      <td>0</td>\n",
       "      <td>0</td>\n",
       "      <td>1</td>\n",
       "    </tr>\n",
       "    <tr>\n",
       "      <th>21</th>\n",
       "      <td>18</td>\n",
       "      <td>5</td>\n",
       "      <td>6</td>\n",
       "      <td>4</td>\n",
       "      <td>1</td>\n",
       "      <td>1</td>\n",
       "      <td>0</td>\n",
       "      <td>1</td>\n",
       "      <td>0</td>\n",
       "      <td>2</td>\n",
       "    </tr>\n",
       "  </tbody>\n",
       "</table>\n",
       "</div>"
      ],
      "text/plain": [
       "    totalDice  numPlayerDice  quantityDeclared  diceNumDeclared  1s  2s  3s  \\\n",
       "1          24              5                 8                4   0   0   1   \n",
       "6          22              5                 7                4   2   0   0   \n",
       "11         21              5                 7                4   1   0   1   \n",
       "16         19              5                 6                3   2   0   2   \n",
       "21         18              5                 6                4   1   1   0   \n",
       "\n",
       "    4s  5s  6s  \n",
       "1    2   2   0  \n",
       "6    2   0   1  \n",
       "11   2   1   0  \n",
       "16   0   0   1  \n",
       "21   1   0   2  "
      ]
     },
     "execution_count": 49,
     "metadata": {},
     "output_type": "execute_result"
    }
   ],
   "source": [
    "AggLow = df[df[\"player\"] == \"Agg-Low\"]\n",
    "AggLow = AggLow.drop(columns = [\"player\"])\n",
    "AggLow.head()"
   ]
  },
  {
   "cell_type": "code",
   "execution_count": 50,
   "id": "c3a0f360",
   "metadata": {},
   "outputs": [],
   "source": [
    "td, test = train_test_split(AggLow, test_size=0.1)"
   ]
  },
  {
   "cell_type": "code",
   "execution_count": 51,
   "id": "c7e4bf33",
   "metadata": {},
   "outputs": [],
   "source": [
    "train, develop = train_test_split(AggLow, test_size=0.2)"
   ]
  },
  {
   "cell_type": "code",
   "execution_count": 52,
   "id": "8e8dfded",
   "metadata": {},
   "outputs": [
    {
     "data": {
      "text/plain": [
       "(101144, 10)"
      ]
     },
     "execution_count": 52,
     "metadata": {},
     "output_type": "execute_result"
    }
   ],
   "source": [
    "train.shape"
   ]
  },
  {
   "cell_type": "code",
   "execution_count": 53,
   "id": "d48db36f",
   "metadata": {},
   "outputs": [
    {
     "data": {
      "text/plain": [
       "(25286, 10)"
      ]
     },
     "execution_count": 53,
     "metadata": {},
     "output_type": "execute_result"
    }
   ],
   "source": [
    "develop.shape"
   ]
  },
  {
   "cell_type": "code",
   "execution_count": 54,
   "id": "10c56745",
   "metadata": {},
   "outputs": [
    {
     "data": {
      "text/plain": [
       "(12643, 10)"
      ]
     },
     "execution_count": 54,
     "metadata": {},
     "output_type": "execute_result"
    }
   ],
   "source": [
    "test.shape"
   ]
  },
  {
   "cell_type": "code",
   "execution_count": 55,
   "id": "ec9aef54",
   "metadata": {},
   "outputs": [],
   "source": [
    "x_train = train[train.columns[:4]]\n",
    "y_train = train[train.columns[4:]]\n",
    "\n",
    "x_develop = develop[develop.columns[:4]]\n",
    "y_develop = develop[develop.columns[4:]]\n",
    "\n",
    "x_test = test[test.columns[:4]]\n",
    "y_test = test[test.columns[4:]]"
   ]
  },
  {
   "cell_type": "code",
   "execution_count": 56,
   "id": "e2a68046",
   "metadata": {},
   "outputs": [],
   "source": [
    "x_train_tensor = torch.from_numpy(x_train.to_numpy()).float()\n",
    "y_train_tensor = torch.from_numpy(y_train.to_numpy()).float()\n",
    "\n",
    "x_develop_tensor = torch.from_numpy(x_develop.to_numpy()).float()\n",
    "y_develop_tensor = torch.from_numpy(y_develop.to_numpy()).float()\n",
    "\n",
    "x_test_tensor = torch.from_numpy(x_test.to_numpy()).float()\n",
    "y_test_tensor = torch.from_numpy(y_test.to_numpy()).float()"
   ]
  },
  {
   "cell_type": "code",
   "execution_count": 57,
   "id": "dc394685",
   "metadata": {},
   "outputs": [],
   "source": [
    "train_dataset = list(zip(x_train_tensor, y_train_tensor))\n",
    "develop_dataset = list(zip(x_develop_tensor, y_develop_tensor))\n",
    "test_dataset = list(zip(x_test_tensor, y_test_tensor))"
   ]
  },
  {
   "cell_type": "code",
   "execution_count": 58,
   "id": "98032384",
   "metadata": {},
   "outputs": [],
   "source": [
    "class Net(nn.Module):\n",
    "    def __init__(self, num_layers, layers_size):\n",
    "        super(Net, self).__init__()\n",
    "        self.hidden_layers = nn.ModuleList([nn.Linear(4, layers_size)])\n",
    "        self.hidden_layers.extend([nn.Linear(layers_size, layers_size) for i in range(1, num_layers-1)])\n",
    "        self.output = nn.Linear(layers_size, 6)\n",
    "        self.activation = nn.ReLU()\n",
    "        \n",
    "    def forward(self, x):\n",
    "        z = x\n",
    "        for layer in self.hidden_layers:\n",
    "            z = self.activation(layer(z))\n",
    "        return self.output(z)"
   ]
  },
  {
   "cell_type": "code",
   "execution_count": 59,
   "id": "04d4902d",
   "metadata": {},
   "outputs": [],
   "source": [
    "class Trainer():\n",
    "    def __init__(self, net, optim, loss_function, train_loader):\n",
    "        self.net = net\n",
    "        self.optim = optim\n",
    "        self.loss_function = loss_function\n",
    "        self.train_loader = train_loader\n",
    "        \n",
    "    def train(self, epochs, verbose=True):\n",
    "        losses = []\n",
    "        for epoch in range(epochs):\n",
    "            epoch_loss = 0.0\n",
    "            epoch_steps = 0\n",
    "            for data in self.train_loader:\n",
    "                x = data[0]\n",
    "                y = data[1]\n",
    "                \n",
    "                self.optim.zero_grad()\n",
    "                \n",
    "                preds = self.net.forward(x)\n",
    "                \n",
    "                loss = self.loss_function(preds, y)\n",
    "                \n",
    "                loss.backward()\n",
    "                \n",
    "                self.optim.step()\n",
    "                \n",
    "                epoch_loss += loss.item()\n",
    "                epoch_steps += 1\n",
    "                \n",
    "            losses.append(epoch_loss / epoch_steps)\n",
    "            if verbose: print(\"epoch [%d]: loss %.3f\" % (epoch+1, losses[-1]))\n",
    "        return losses"
   ]
  },
  {
   "cell_type": "code",
   "execution_count": 60,
   "id": "7dc5faec",
   "metadata": {},
   "outputs": [],
   "source": [
    "## Hyperparamters\n",
    "\n",
    "num_epochs = 30\n",
    "batch_size = 256\n",
    "learning_rate = 0.02"
   ]
  },
  {
   "cell_type": "code",
   "execution_count": 61,
   "id": "f1f448aa",
   "metadata": {},
   "outputs": [],
   "source": [
    "train_loader = DataLoader(dataset=train_dataset, batch_size=batch_size, shuffle=True, num_workers=0)\n",
    "develop_loader = DataLoader(dataset=develop_dataset, batch_size=batch_size, shuffle=False, num_workers=0)"
   ]
  },
  {
   "cell_type": "code",
   "execution_count": 62,
   "id": "f6f8072b",
   "metadata": {},
   "outputs": [
    {
     "name": "stdout",
     "output_type": "stream",
     "text": [
      "epoch [1]: loss 0.410\n",
      "epoch [2]: loss 0.354\n",
      "epoch [3]: loss 0.330\n",
      "epoch [4]: loss 0.317\n",
      "epoch [5]: loss 0.291\n",
      "epoch [6]: loss 0.286\n",
      "epoch [7]: loss 0.282\n",
      "epoch [8]: loss 0.281\n",
      "epoch [9]: loss 0.280\n",
      "epoch [10]: loss 0.279\n",
      "epoch [11]: loss 0.278\n",
      "epoch [12]: loss 0.278\n",
      "epoch [13]: loss 0.277\n",
      "epoch [14]: loss 0.275\n",
      "epoch [15]: loss 0.276\n",
      "epoch [16]: loss 0.275\n",
      "epoch [17]: loss 0.274\n",
      "epoch [18]: loss 0.273\n",
      "epoch [19]: loss 0.273\n",
      "epoch [20]: loss 0.272\n",
      "epoch [21]: loss 0.275\n",
      "epoch [22]: loss 0.271\n",
      "epoch [23]: loss 0.273\n",
      "epoch [24]: loss 0.272\n",
      "epoch [25]: loss 0.273\n",
      "epoch [26]: loss 0.273\n",
      "epoch [27]: loss 0.270\n",
      "epoch [28]: loss 0.270\n",
      "epoch [29]: loss 0.272\n",
      "epoch [30]: loss 0.271\n"
     ]
    }
   ],
   "source": [
    "net = Net(2, 16)\n",
    "opt = optim.Adam(net.parameters(), lr=learning_rate)\n",
    "loss_function = nn.MSELoss()\n",
    "\n",
    "trainer = Trainer(net=net, optim=opt, loss_function=loss_function, train_loader=train_loader)\n",
    "\n",
    "losses = trainer.train(num_epochs)"
   ]
  },
  {
   "cell_type": "code",
   "execution_count": 63,
   "id": "9b3dc3da",
   "metadata": {},
   "outputs": [
    {
     "data": {
      "text/html": [
       "<div>\n",
       "<style scoped>\n",
       "    .dataframe tbody tr th:only-of-type {\n",
       "        vertical-align: middle;\n",
       "    }\n",
       "\n",
       "    .dataframe tbody tr th {\n",
       "        vertical-align: top;\n",
       "    }\n",
       "\n",
       "    .dataframe thead th {\n",
       "        text-align: right;\n",
       "    }\n",
       "</style>\n",
       "<table border=\"1\" class=\"dataframe\">\n",
       "  <thead>\n",
       "    <tr style=\"text-align: right;\">\n",
       "      <th></th>\n",
       "      <th>totalDice</th>\n",
       "      <th>numPlayerDice</th>\n",
       "      <th>quantityDeclared</th>\n",
       "      <th>diceNumDeclared</th>\n",
       "      <th>1s</th>\n",
       "      <th>2s</th>\n",
       "      <th>3s</th>\n",
       "      <th>4s</th>\n",
       "      <th>5s</th>\n",
       "      <th>6s</th>\n",
       "    </tr>\n",
       "  </thead>\n",
       "  <tbody>\n",
       "    <tr>\n",
       "      <th>1</th>\n",
       "      <td>24</td>\n",
       "      <td>5</td>\n",
       "      <td>8</td>\n",
       "      <td>4</td>\n",
       "      <td>0</td>\n",
       "      <td>0</td>\n",
       "      <td>1</td>\n",
       "      <td>2</td>\n",
       "      <td>2</td>\n",
       "      <td>0</td>\n",
       "    </tr>\n",
       "    <tr>\n",
       "      <th>6</th>\n",
       "      <td>22</td>\n",
       "      <td>5</td>\n",
       "      <td>7</td>\n",
       "      <td>4</td>\n",
       "      <td>2</td>\n",
       "      <td>0</td>\n",
       "      <td>0</td>\n",
       "      <td>2</td>\n",
       "      <td>0</td>\n",
       "      <td>1</td>\n",
       "    </tr>\n",
       "    <tr>\n",
       "      <th>11</th>\n",
       "      <td>21</td>\n",
       "      <td>5</td>\n",
       "      <td>7</td>\n",
       "      <td>4</td>\n",
       "      <td>1</td>\n",
       "      <td>0</td>\n",
       "      <td>1</td>\n",
       "      <td>2</td>\n",
       "      <td>1</td>\n",
       "      <td>0</td>\n",
       "    </tr>\n",
       "    <tr>\n",
       "      <th>16</th>\n",
       "      <td>19</td>\n",
       "      <td>5</td>\n",
       "      <td>6</td>\n",
       "      <td>3</td>\n",
       "      <td>2</td>\n",
       "      <td>0</td>\n",
       "      <td>2</td>\n",
       "      <td>0</td>\n",
       "      <td>0</td>\n",
       "      <td>1</td>\n",
       "    </tr>\n",
       "    <tr>\n",
       "      <th>21</th>\n",
       "      <td>18</td>\n",
       "      <td>5</td>\n",
       "      <td>6</td>\n",
       "      <td>4</td>\n",
       "      <td>1</td>\n",
       "      <td>1</td>\n",
       "      <td>0</td>\n",
       "      <td>1</td>\n",
       "      <td>0</td>\n",
       "      <td>2</td>\n",
       "    </tr>\n",
       "  </tbody>\n",
       "</table>\n",
       "</div>"
      ],
      "text/plain": [
       "    totalDice  numPlayerDice  quantityDeclared  diceNumDeclared  1s  2s  3s  \\\n",
       "1          24              5                 8                4   0   0   1   \n",
       "6          22              5                 7                4   2   0   0   \n",
       "11         21              5                 7                4   1   0   1   \n",
       "16         19              5                 6                3   2   0   2   \n",
       "21         18              5                 6                4   1   1   0   \n",
       "\n",
       "    4s  5s  6s  \n",
       "1    2   2   0  \n",
       "6    2   0   1  \n",
       "11   2   1   0  \n",
       "16   0   0   1  \n",
       "21   1   0   2  "
      ]
     },
     "execution_count": 63,
     "metadata": {},
     "output_type": "execute_result"
    }
   ],
   "source": [
    "AggLow.head()"
   ]
  },
  {
   "cell_type": "code",
   "execution_count": 64,
   "id": "0d7fa016",
   "metadata": {},
   "outputs": [
    {
     "data": {
      "text/plain": [
       "(tensor([13.,  2.,  4.,  1.]), tensor([1., 0., 1., 0., 0., 0.]))"
      ]
     },
     "execution_count": 64,
     "metadata": {},
     "output_type": "execute_result"
    }
   ],
   "source": [
    "train_dataset[0]"
   ]
  },
  {
   "cell_type": "code",
   "execution_count": 65,
   "id": "b22043fd",
   "metadata": {},
   "outputs": [
    {
     "data": {
      "text/plain": [
       "(tensor([8., 2., 2., 4.]), tensor([0., 1., 0., 1., 0., 0.]))"
      ]
     },
     "execution_count": 65,
     "metadata": {},
     "output_type": "execute_result"
    }
   ],
   "source": [
    "train_dataset[1]"
   ]
  },
  {
   "cell_type": "code",
   "execution_count": 66,
   "id": "7348b276",
   "metadata": {},
   "outputs": [
    {
     "data": {
      "text/html": [
       "<div>\n",
       "<style scoped>\n",
       "    .dataframe tbody tr th:only-of-type {\n",
       "        vertical-align: middle;\n",
       "    }\n",
       "\n",
       "    .dataframe tbody tr th {\n",
       "        vertical-align: top;\n",
       "    }\n",
       "\n",
       "    .dataframe thead th {\n",
       "        text-align: right;\n",
       "    }\n",
       "</style>\n",
       "<table border=\"1\" class=\"dataframe\">\n",
       "  <thead>\n",
       "    <tr style=\"text-align: right;\">\n",
       "      <th></th>\n",
       "      <th>totalDice</th>\n",
       "      <th>numPlayerDice</th>\n",
       "      <th>quantityDeclared</th>\n",
       "      <th>diceNumDeclared</th>\n",
       "    </tr>\n",
       "  </thead>\n",
       "  <tbody>\n",
       "    <tr>\n",
       "      <th>577794</th>\n",
       "      <td>13</td>\n",
       "      <td>2</td>\n",
       "      <td>4</td>\n",
       "      <td>1</td>\n",
       "    </tr>\n",
       "    <tr>\n",
       "      <th>526856</th>\n",
       "      <td>8</td>\n",
       "      <td>2</td>\n",
       "      <td>2</td>\n",
       "      <td>4</td>\n",
       "    </tr>\n",
       "    <tr>\n",
       "      <th>406465</th>\n",
       "      <td>25</td>\n",
       "      <td>5</td>\n",
       "      <td>8</td>\n",
       "      <td>5</td>\n",
       "    </tr>\n",
       "    <tr>\n",
       "      <th>63683</th>\n",
       "      <td>14</td>\n",
       "      <td>3</td>\n",
       "      <td>4</td>\n",
       "      <td>4</td>\n",
       "    </tr>\n",
       "    <tr>\n",
       "      <th>116196</th>\n",
       "      <td>14</td>\n",
       "      <td>3</td>\n",
       "      <td>4</td>\n",
       "      <td>5</td>\n",
       "    </tr>\n",
       "  </tbody>\n",
       "</table>\n",
       "</div>"
      ],
      "text/plain": [
       "        totalDice  numPlayerDice  quantityDeclared  diceNumDeclared\n",
       "577794         13              2                 4                1\n",
       "526856          8              2                 2                4\n",
       "406465         25              5                 8                5\n",
       "63683          14              3                 4                4\n",
       "116196         14              3                 4                5"
      ]
     },
     "execution_count": 66,
     "metadata": {},
     "output_type": "execute_result"
    }
   ],
   "source": [
    "x_train.head()"
   ]
  },
  {
   "cell_type": "code",
   "execution_count": 67,
   "id": "0f6de38f",
   "metadata": {},
   "outputs": [
    {
     "data": {
      "text/plain": [
       "tensor([ 1.0615,  0.3276, -0.1647,  0.1028,  0.1926,  0.4106],\n",
       "       grad_fn=<AddBackward0>)"
      ]
     },
     "execution_count": 67,
     "metadata": {},
     "output_type": "execute_result"
    }
   ],
   "source": [
    "net.forward(train_dataset[0][0])"
   ]
  },
  {
   "cell_type": "code",
   "execution_count": 68,
   "id": "1cad7791",
   "metadata": {},
   "outputs": [
    {
     "data": {
      "text/plain": [
       "tensor([0.1513, 0.1299, 0.0621, 1.3643, 0.1004, 0.1923],\n",
       "       grad_fn=<AddBackward0>)"
      ]
     },
     "execution_count": 68,
     "metadata": {},
     "output_type": "execute_result"
    }
   ],
   "source": [
    "net.forward(train_dataset[1][0])"
   ]
  },
  {
   "cell_type": "code",
   "execution_count": 69,
   "id": "be1fa5cd",
   "metadata": {},
   "outputs": [
    {
     "data": {
      "text/plain": [
       "(tensor([15.,  5.,  5.,  1.]), tensor([2., 0., 1., 1., 1., 0.]))"
      ]
     },
     "execution_count": 69,
     "metadata": {},
     "output_type": "execute_result"
    }
   ],
   "source": [
    "develop_dataset[0]"
   ]
  },
  {
   "cell_type": "code",
   "execution_count": 70,
   "id": "6ac9f446",
   "metadata": {},
   "outputs": [
    {
     "data": {
      "text/plain": [
       "(tensor([24.,  4.,  8.,  2.]), tensor([1., 2., 0., 0., 0., 1.]))"
      ]
     },
     "execution_count": 70,
     "metadata": {},
     "output_type": "execute_result"
    }
   ],
   "source": [
    "develop_dataset[1]"
   ]
  },
  {
   "cell_type": "code",
   "execution_count": 71,
   "id": "bbf6188b",
   "metadata": {},
   "outputs": [
    {
     "data": {
      "text/plain": [
       "(tensor([4., 2., 2., 2.]), tensor([0., 1., 0., 0., 0., 1.]))"
      ]
     },
     "execution_count": 71,
     "metadata": {},
     "output_type": "execute_result"
    }
   ],
   "source": [
    "develop_dataset[2]"
   ]
  },
  {
   "cell_type": "code",
   "execution_count": 72,
   "id": "21093169",
   "metadata": {},
   "outputs": [
    {
     "data": {
      "text/plain": [
       "(tensor([8., 3., 3., 1.]), tensor([2., 0., 0., 1., 0., 0.]))"
      ]
     },
     "execution_count": 72,
     "metadata": {},
     "output_type": "execute_result"
    }
   ],
   "source": [
    "develop_dataset[3]"
   ]
  },
  {
   "cell_type": "code",
   "execution_count": 73,
   "id": "369ae74d",
   "metadata": {},
   "outputs": [
    {
     "data": {
      "text/plain": [
       "tensor([1.6910, 0.7712, 0.3061, 0.4807, 0.6410, 0.9987],\n",
       "       grad_fn=<AddBackward0>)"
      ]
     },
     "execution_count": 73,
     "metadata": {},
     "output_type": "execute_result"
    }
   ],
   "source": [
    "net.forward(develop_dataset[0][0])"
   ]
  },
  {
   "cell_type": "code",
   "execution_count": 74,
   "id": "9e3a17a5",
   "metadata": {},
   "outputs": [
    {
     "data": {
      "text/plain": [
       "tensor([0.3524, 1.7205, 0.2619, 0.3981, 0.4535, 0.7430],\n",
       "       grad_fn=<AddBackward0>)"
      ]
     },
     "execution_count": 74,
     "metadata": {},
     "output_type": "execute_result"
    }
   ],
   "source": [
    "net.forward(develop_dataset[1][0])"
   ]
  },
  {
   "cell_type": "code",
   "execution_count": 75,
   "id": "ad8248e9",
   "metadata": {},
   "outputs": [
    {
     "data": {
      "text/plain": [
       "tensor([0.0312, 1.1980, 0.0804, 0.1427, 0.1657, 0.3507],\n",
       "       grad_fn=<AddBackward0>)"
      ]
     },
     "execution_count": 75,
     "metadata": {},
     "output_type": "execute_result"
    }
   ],
   "source": [
    "net.forward(develop_dataset[2][0])"
   ]
  },
  {
   "cell_type": "code",
   "execution_count": 76,
   "id": "2229fe95",
   "metadata": {},
   "outputs": [
    {
     "data": {
      "text/plain": [
       "tensor([1.2931, 0.4227, 0.0245, 0.2262, 0.3480, 0.6051],\n",
       "       grad_fn=<AddBackward0>)"
      ]
     },
     "execution_count": 76,
     "metadata": {},
     "output_type": "execute_result"
    }
   ],
   "source": [
    "net.forward(develop_dataset[3][0])"
   ]
  },
  {
   "cell_type": "code",
   "execution_count": 77,
   "id": "9f35bd78",
   "metadata": {},
   "outputs": [],
   "source": [
    "torch.save(net.state_dict(), \"/Users/michaelhein/Programs/Dicebot/models/aggressive_low_lvl_stat.obj\")"
   ]
  }
 ],
 "metadata": {
  "kernelspec": {
   "display_name": "Python 3 (ipykernel)",
   "language": "python",
   "name": "python3"
  },
  "language_info": {
   "codemirror_mode": {
    "name": "ipython",
    "version": 3
   },
   "file_extension": ".py",
   "mimetype": "text/x-python",
   "name": "python",
   "nbconvert_exporter": "python",
   "pygments_lexer": "ipython3",
   "version": "3.10.5"
  }
 },
 "nbformat": 4,
 "nbformat_minor": 5
}
